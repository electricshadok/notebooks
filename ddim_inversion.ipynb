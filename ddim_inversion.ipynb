{
  "nbformat": 4,
  "nbformat_minor": 0,
  "metadata": {
    "colab": {
      "provenance": [],
      "gpuType": "T4",
      "authorship_tag": "ABX9TyPCNpmJG1hlNIyNeemaMQ6Q",
      "include_colab_link": true
    },
    "kernelspec": {
      "name": "python3",
      "display_name": "Python 3"
    },
    "language_info": {
      "name": "python"
    },
    "accelerator": "GPU"
  },
  "cells": [
    {
      "cell_type": "markdown",
      "metadata": {
        "id": "view-in-github",
        "colab_type": "text"
      },
      "source": [
        "<a href=\"https://colab.research.google.com/github/electricshadok/notebooks/blob/main/ddim_inversion.ipynb\" target=\"_parent\"><img src=\"https://colab.research.google.com/assets/colab-badge.svg\" alt=\"Open In Colab\"/></a>"
      ]
    },
    {
      "cell_type": "markdown",
      "source": [
        "# DDIM Inversion (in progress)\n",
        "\n",
        "This notebook explores our to run the DDIM inversion method.\n",
        "\n",
        "Follow the instructions from\n",
        "https://huggingface.co/learn/diffusion-course/en/unit4/2"
      ],
      "metadata": {
        "id": "bs8NkKArzsHW"
      }
    },
    {
      "cell_type": "markdown",
      "source": [
        "## Packages"
      ],
      "metadata": {
        "id": "lmA7JS5X0LaV"
      }
    },
    {
      "cell_type": "code",
      "execution_count": 2,
      "metadata": {
        "id": "vd9FAQxRzZjB"
      },
      "outputs": [],
      "source": [
        "# Load image from URL\n",
        "from PIL import Image\n",
        "import requests\n",
        "from io import BytesIO\n",
        "\n",
        "# Diffusers\n",
        "from diffusers import StableDiffusionPipeline, DDIMScheduler\n"
      ]
    },
    {
      "cell_type": "markdown",
      "source": [
        "## Download Image\n"
      ],
      "metadata": {
        "id": "hLpX2ENe1YVT"
      }
    },
    {
      "cell_type": "code",
      "source": [],
      "metadata": {
        "id": "mSWve31m1bAN"
      },
      "execution_count": null,
      "outputs": []
    }
  ]
}