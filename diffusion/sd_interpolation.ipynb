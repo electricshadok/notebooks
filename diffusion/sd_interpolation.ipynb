{
  "nbformat": 4,
  "nbformat_minor": 0,
  "metadata": {
    "colab": {
      "provenance": [],
      "authorship_tag": "ABX9TyNm2Wth1mxVhlnJol5Ukctg",
      "include_colab_link": true
    },
    "kernelspec": {
      "name": "python3",
      "display_name": "Python 3"
    },
    "language_info": {
      "name": "python"
    }
  },
  "cells": [
    {
      "cell_type": "markdown",
      "metadata": {
        "id": "view-in-github",
        "colab_type": "text"
      },
      "source": [
        "<a href=\"https://colab.research.google.com/github/electricshadok/notebooks/blob/main/diffusion/sd_interpolation.ipynb\" target=\"_parent\"><img src=\"https://colab.research.google.com/assets/colab-badge.svg\" alt=\"Open In Colab\"/></a>"
      ]
    },
    {
      "cell_type": "markdown",
      "source": [
        "# Stable diffusion Interpolation"
      ],
      "metadata": {
        "id": "V8dE4S7Kw5mk"
      }
    },
    {
      "cell_type": "code",
      "execution_count": 2,
      "metadata": {
        "id": "lh9OVVt-wzsV"
      },
      "outputs": [],
      "source": [
        "from diffusers import StableDiffusionPipeline\n",
        "\n",
        "model_name_or_path = \"runwayml/stable-diffusion-v1-5\"\n",
        "\n",
        "# Load the stable diffusion pipline which include the text encoder"
      ]
    }
  ]
}