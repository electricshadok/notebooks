{
  "nbformat": 4,
  "nbformat_minor": 0,
  "metadata": {
    "colab": {
      "provenance": [],
      "authorship_tag": "ABX9TyPtQO7LnKCEFHPQrJgpgLkg",
      "include_colab_link": true
    },
    "kernelspec": {
      "name": "python3",
      "display_name": "Python 3"
    },
    "language_info": {
      "name": "python"
    },
    "widgets": {
      "application/vnd.jupyter.widget-state+json": {
        "e0e740738176486581a7f7bb675e8391": {
          "model_module": "@jupyter-widgets/controls",
          "model_name": "HBoxModel",
          "model_module_version": "1.5.0",
          "state": {
            "_dom_classes": [],
            "_model_module": "@jupyter-widgets/controls",
            "_model_module_version": "1.5.0",
            "_model_name": "HBoxModel",
            "_view_count": null,
            "_view_module": "@jupyter-widgets/controls",
            "_view_module_version": "1.5.0",
            "_view_name": "HBoxView",
            "box_style": "",
            "children": [
              "IPY_MODEL_f500ebb2fa834b708760a95d138e3d24",
              "IPY_MODEL_cf810e83904e419182ae273a1f0a0517",
              "IPY_MODEL_85f483f6e9f241278e80a4f380ae89a6"
            ],
            "layout": "IPY_MODEL_8b15d1745cca49c1bcba2b6225cd92e6"
          }
        },
        "f500ebb2fa834b708760a95d138e3d24": {
          "model_module": "@jupyter-widgets/controls",
          "model_name": "HTMLModel",
          "model_module_version": "1.5.0",
          "state": {
            "_dom_classes": [],
            "_model_module": "@jupyter-widgets/controls",
            "_model_module_version": "1.5.0",
            "_model_name": "HTMLModel",
            "_view_count": null,
            "_view_module": "@jupyter-widgets/controls",
            "_view_module_version": "1.5.0",
            "_view_name": "HTMLView",
            "description": "",
            "description_tooltip": null,
            "layout": "IPY_MODEL_777ace28462f44bf98ca7423ca482827",
            "placeholder": "​",
            "style": "IPY_MODEL_5aeb2dc7abc247ed853856d05fb723a2",
            "value": "Training Progress: 100%"
          }
        },
        "cf810e83904e419182ae273a1f0a0517": {
          "model_module": "@jupyter-widgets/controls",
          "model_name": "FloatProgressModel",
          "model_module_version": "1.5.0",
          "state": {
            "_dom_classes": [],
            "_model_module": "@jupyter-widgets/controls",
            "_model_module_version": "1.5.0",
            "_model_name": "FloatProgressModel",
            "_view_count": null,
            "_view_module": "@jupyter-widgets/controls",
            "_view_module_version": "1.5.0",
            "_view_name": "ProgressView",
            "bar_style": "success",
            "description": "",
            "description_tooltip": null,
            "layout": "IPY_MODEL_a094b85e33a548e39f7fddc4ea3261f8",
            "max": 1000,
            "min": 0,
            "orientation": "horizontal",
            "style": "IPY_MODEL_7f2eed86ead24804b7ad6c771971a036",
            "value": 1000
          }
        },
        "85f483f6e9f241278e80a4f380ae89a6": {
          "model_module": "@jupyter-widgets/controls",
          "model_name": "HTMLModel",
          "model_module_version": "1.5.0",
          "state": {
            "_dom_classes": [],
            "_model_module": "@jupyter-widgets/controls",
            "_model_module_version": "1.5.0",
            "_model_name": "HTMLModel",
            "_view_count": null,
            "_view_module": "@jupyter-widgets/controls",
            "_view_module_version": "1.5.0",
            "_view_name": "HTMLView",
            "description": "",
            "description_tooltip": null,
            "layout": "IPY_MODEL_f770b6b8dca34d94b9bb7fb726660734",
            "placeholder": "​",
            "style": "IPY_MODEL_e156d518a38b4c759b5200270ae3840d",
            "value": " 1000/1000 [00:10&lt;00:00, 138.35it/s]"
          }
        },
        "8b15d1745cca49c1bcba2b6225cd92e6": {
          "model_module": "@jupyter-widgets/base",
          "model_name": "LayoutModel",
          "model_module_version": "1.2.0",
          "state": {
            "_model_module": "@jupyter-widgets/base",
            "_model_module_version": "1.2.0",
            "_model_name": "LayoutModel",
            "_view_count": null,
            "_view_module": "@jupyter-widgets/base",
            "_view_module_version": "1.2.0",
            "_view_name": "LayoutView",
            "align_content": null,
            "align_items": null,
            "align_self": null,
            "border": null,
            "bottom": null,
            "display": null,
            "flex": null,
            "flex_flow": null,
            "grid_area": null,
            "grid_auto_columns": null,
            "grid_auto_flow": null,
            "grid_auto_rows": null,
            "grid_column": null,
            "grid_gap": null,
            "grid_row": null,
            "grid_template_areas": null,
            "grid_template_columns": null,
            "grid_template_rows": null,
            "height": null,
            "justify_content": null,
            "justify_items": null,
            "left": null,
            "margin": null,
            "max_height": null,
            "max_width": null,
            "min_height": null,
            "min_width": null,
            "object_fit": null,
            "object_position": null,
            "order": null,
            "overflow": null,
            "overflow_x": null,
            "overflow_y": null,
            "padding": null,
            "right": null,
            "top": null,
            "visibility": null,
            "width": null
          }
        },
        "777ace28462f44bf98ca7423ca482827": {
          "model_module": "@jupyter-widgets/base",
          "model_name": "LayoutModel",
          "model_module_version": "1.2.0",
          "state": {
            "_model_module": "@jupyter-widgets/base",
            "_model_module_version": "1.2.0",
            "_model_name": "LayoutModel",
            "_view_count": null,
            "_view_module": "@jupyter-widgets/base",
            "_view_module_version": "1.2.0",
            "_view_name": "LayoutView",
            "align_content": null,
            "align_items": null,
            "align_self": null,
            "border": null,
            "bottom": null,
            "display": null,
            "flex": null,
            "flex_flow": null,
            "grid_area": null,
            "grid_auto_columns": null,
            "grid_auto_flow": null,
            "grid_auto_rows": null,
            "grid_column": null,
            "grid_gap": null,
            "grid_row": null,
            "grid_template_areas": null,
            "grid_template_columns": null,
            "grid_template_rows": null,
            "height": null,
            "justify_content": null,
            "justify_items": null,
            "left": null,
            "margin": null,
            "max_height": null,
            "max_width": null,
            "min_height": null,
            "min_width": null,
            "object_fit": null,
            "object_position": null,
            "order": null,
            "overflow": null,
            "overflow_x": null,
            "overflow_y": null,
            "padding": null,
            "right": null,
            "top": null,
            "visibility": null,
            "width": null
          }
        },
        "5aeb2dc7abc247ed853856d05fb723a2": {
          "model_module": "@jupyter-widgets/controls",
          "model_name": "DescriptionStyleModel",
          "model_module_version": "1.5.0",
          "state": {
            "_model_module": "@jupyter-widgets/controls",
            "_model_module_version": "1.5.0",
            "_model_name": "DescriptionStyleModel",
            "_view_count": null,
            "_view_module": "@jupyter-widgets/base",
            "_view_module_version": "1.2.0",
            "_view_name": "StyleView",
            "description_width": ""
          }
        },
        "a094b85e33a548e39f7fddc4ea3261f8": {
          "model_module": "@jupyter-widgets/base",
          "model_name": "LayoutModel",
          "model_module_version": "1.2.0",
          "state": {
            "_model_module": "@jupyter-widgets/base",
            "_model_module_version": "1.2.0",
            "_model_name": "LayoutModel",
            "_view_count": null,
            "_view_module": "@jupyter-widgets/base",
            "_view_module_version": "1.2.0",
            "_view_name": "LayoutView",
            "align_content": null,
            "align_items": null,
            "align_self": null,
            "border": null,
            "bottom": null,
            "display": null,
            "flex": null,
            "flex_flow": null,
            "grid_area": null,
            "grid_auto_columns": null,
            "grid_auto_flow": null,
            "grid_auto_rows": null,
            "grid_column": null,
            "grid_gap": null,
            "grid_row": null,
            "grid_template_areas": null,
            "grid_template_columns": null,
            "grid_template_rows": null,
            "height": null,
            "justify_content": null,
            "justify_items": null,
            "left": null,
            "margin": null,
            "max_height": null,
            "max_width": null,
            "min_height": null,
            "min_width": null,
            "object_fit": null,
            "object_position": null,
            "order": null,
            "overflow": null,
            "overflow_x": null,
            "overflow_y": null,
            "padding": null,
            "right": null,
            "top": null,
            "visibility": null,
            "width": null
          }
        },
        "7f2eed86ead24804b7ad6c771971a036": {
          "model_module": "@jupyter-widgets/controls",
          "model_name": "ProgressStyleModel",
          "model_module_version": "1.5.0",
          "state": {
            "_model_module": "@jupyter-widgets/controls",
            "_model_module_version": "1.5.0",
            "_model_name": "ProgressStyleModel",
            "_view_count": null,
            "_view_module": "@jupyter-widgets/base",
            "_view_module_version": "1.2.0",
            "_view_name": "StyleView",
            "bar_color": null,
            "description_width": ""
          }
        },
        "f770b6b8dca34d94b9bb7fb726660734": {
          "model_module": "@jupyter-widgets/base",
          "model_name": "LayoutModel",
          "model_module_version": "1.2.0",
          "state": {
            "_model_module": "@jupyter-widgets/base",
            "_model_module_version": "1.2.0",
            "_model_name": "LayoutModel",
            "_view_count": null,
            "_view_module": "@jupyter-widgets/base",
            "_view_module_version": "1.2.0",
            "_view_name": "LayoutView",
            "align_content": null,
            "align_items": null,
            "align_self": null,
            "border": null,
            "bottom": null,
            "display": null,
            "flex": null,
            "flex_flow": null,
            "grid_area": null,
            "grid_auto_columns": null,
            "grid_auto_flow": null,
            "grid_auto_rows": null,
            "grid_column": null,
            "grid_gap": null,
            "grid_row": null,
            "grid_template_areas": null,
            "grid_template_columns": null,
            "grid_template_rows": null,
            "height": null,
            "justify_content": null,
            "justify_items": null,
            "left": null,
            "margin": null,
            "max_height": null,
            "max_width": null,
            "min_height": null,
            "min_width": null,
            "object_fit": null,
            "object_position": null,
            "order": null,
            "overflow": null,
            "overflow_x": null,
            "overflow_y": null,
            "padding": null,
            "right": null,
            "top": null,
            "visibility": null,
            "width": null
          }
        },
        "e156d518a38b4c759b5200270ae3840d": {
          "model_module": "@jupyter-widgets/controls",
          "model_name": "DescriptionStyleModel",
          "model_module_version": "1.5.0",
          "state": {
            "_model_module": "@jupyter-widgets/controls",
            "_model_module_version": "1.5.0",
            "_model_name": "DescriptionStyleModel",
            "_view_count": null,
            "_view_module": "@jupyter-widgets/base",
            "_view_module_version": "1.2.0",
            "_view_name": "StyleView",
            "description_width": ""
          }
        }
      }
    }
  },
  "cells": [
    {
      "cell_type": "markdown",
      "metadata": {
        "id": "view-in-github",
        "colab_type": "text"
      },
      "source": [
        "<a href=\"https://colab.research.google.com/github/electricshadok/notebooks/blob/main/gan_toy_example.ipynb\" target=\"_parent\"><img src=\"https://colab.research.google.com/assets/colab-badge.svg\" alt=\"Open In Colab\"/></a>"
      ]
    },
    {
      "cell_type": "markdown",
      "source": [
        "#  Understanding Generative Adversarial Network (GAN)\n",
        "\n",
        "A simple Generative Adversarial Network (GAN) that learns a 2D distribution."
      ],
      "metadata": {
        "id": "2r47p6mP8PYG"
      }
    },
    {
      "cell_type": "markdown",
      "source": [
        "## Packages"
      ],
      "metadata": {
        "id": "30nG9a71-de4"
      }
    },
    {
      "cell_type": "code",
      "source": [
        "import math\n",
        "import numpy as np\n",
        "import matplotlib.pyplot as plt\n",
        "from tqdm.notebook import tqdm\n",
        "import torch\n",
        "import torch.nn as nn"
      ],
      "metadata": {
        "id": "aevX9nW4-hOf"
      },
      "execution_count": 1,
      "outputs": []
    },
    {
      "cell_type": "markdown",
      "source": [
        "## 1. Generate Synthetic Data"
      ],
      "metadata": {
        "id": "Nth5nPHt-laP"
      }
    },
    {
      "cell_type": "markdown",
      "source": [
        "We create a dataset of 2D points sampled from a Gaussian Mixture Model (GMM). This simulates data from a real-world distribution that we want the EBM to learn."
      ],
      "metadata": {
        "id": "D3VXK0u_-w6T"
      }
    },
    {
      "cell_type": "code",
      "source": [
        "NUM_POINTS = 1000  # Total number of points\n",
        "SEED = 42  # Seed for reproducibility\n",
        "\n",
        "# Create synthetic data: Gaussian mixture\n",
        "def sample_gaussian_mixture(n_samples, means, covs, seed=None):\n",
        "    if seed is not None:\n",
        "        np.random.seed(seed)\n",
        "    n_components = len(means)\n",
        "    samples = []\n",
        "    for _ in range(n_samples):\n",
        "        k = np.random.choice(n_components)  # Randomly select one Gaussian component\n",
        "        sample = np.random.multivariate_normal(means[k], covs[k])\n",
        "        samples.append(sample)\n",
        "    return np.array(samples)\n",
        "\n",
        "# Parameters of the Gaussian mixture\n",
        "means = [[0, 0], [3, 3], [-3, -3]]\n",
        "covs = [np.eye(2) * 0.5, np.eye(2) * 0.8, np.eye(2) * 0.3]\n",
        "\n",
        "# Generate data\n",
        "X = sample_gaussian_mixture(NUM_POINTS, means, covs, seed=SEED)\n",
        "\n",
        "# Visualize the synthetic data\n",
        "plt.scatter(X[:, 0], X[:, 1], s=5, alpha=0.7)\n",
        "plt.title(\"True Data Distribution (Gaussian Mixture)\")\n",
        "plt.xlabel(\"x\")\n",
        "plt.ylabel(\"y\")\n",
        "plt.show()"
      ],
      "metadata": {
        "colab": {
          "base_uri": "https://localhost:8080/",
          "height": 472
        },
        "id": "fCpnLh1z-yKk",
        "outputId": "fc75b6df-2036-4663-cabe-5edb4c7057a8"
      },
      "execution_count": 2,
      "outputs": [
        {
          "output_type": "display_data",
          "data": {
            "text/plain": [
              "<Figure size 640x480 with 1 Axes>"
            ],
            "image/png": "[encoded data removed]"
          },
          "metadata": {}
        }
      ]
    },
    {
      "cell_type": "markdown",
      "source": [
        "## 2. Generative Adversarial Network (GAN)"
      ],
      "metadata": {
        "id": "pmPKNBRo_LWf"
      }
    },
    {
      "cell_type": "markdown",
      "source": [
        "The GAN consists of two models:\n",
        "- **Generator**: Maps random noise\n",
        "- **Discriminator**: Distinguishes between real data and generated data."
      ],
      "metadata": {
        "id": "UF_n6v4P2RsT"
      }
    },
    {
      "cell_type": "code",
      "source": [
        "# Generator Model\n",
        "class Generator(nn.Module):\n",
        "    def __init__(self, noise_dim, output_dim):\n",
        "        super(Generator, self).__init__()\n",
        "        self.net = nn.Sequential(\n",
        "            nn.Linear(noise_dim, 128),\n",
        "            nn.ReLU(),\n",
        "            nn.Linear(128, 128),\n",
        "            nn.ReLU(),\n",
        "            nn.Linear(128, output_dim)\n",
        "        )\n",
        "\n",
        "    def forward(self, z):\n",
        "        return self.net(z)\n",
        "\n",
        "# Discriminator Model\n",
        "class Discriminator(nn.Module):\n",
        "    def __init__(self, input_dim):\n",
        "        super(Discriminator, self).__init__()\n",
        "        self.net = nn.Sequential(\n",
        "            nn.Linear(input_dim, 128),\n",
        "            nn.LeakyReLU(0.2),\n",
        "            nn.Linear(128, 128),\n",
        "            nn.LeakyReLU(0.2),\n",
        "            nn.Linear(128, 1),\n",
        "            nn.Sigmoid()\n",
        "        )\n",
        "\n",
        "    def forward(self, x):\n",
        "        return self.net(x)"
      ],
      "metadata": {
        "id": "WY2jQ6Od_OOC"
      },
      "execution_count": 3,
      "outputs": []
    },
    {
      "cell_type": "markdown",
      "source": [
        "## 3. Train the Energy Model"
      ],
      "metadata": {
        "id": "9-70M-da2nVz"
      }
    },
    {
      "cell_type": "markdown",
      "source": [
        "**Initialize the Models and Optimizers**\n",
        "\n",
        "The criterion is a **Binary Cross-Entropy Loss (BCE Loss)** and ranges in $[0, \\infty)$.\n",
        "\n",
        "\n",
        "- $\\hat{y_i}$: Predicted probability (output of the model, typically between $0$ and $1$).\n",
        "- $\\hat{y_i}$ Ground truth label  ($0$ or $1$).\n",
        "- $N$: Number of samples in the batch.\n",
        "\n",
        "$$\\text{BCE Loss} = -\\frac{1}{N} \\sum_{i=1}^N \\left[ y_i \\cdot \\log(\\hat{y}_i) + (1 - y_i) \\cdot \\log(1 - \\hat{y}_i) \\right]$$\n"
      ],
      "metadata": {
        "id": "owqo57FY4CeW"
      }
    },
    {
      "cell_type": "code",
      "source": [
        "# Model dimensions\n",
        "noise_dim = 2  # Dimension of the noise vector\n",
        "data_dim = 2   # Dimension of the data (x, y)\n",
        "\n",
        "# Instantiate models\n",
        "generator = Generator(noise_dim, data_dim)\n",
        "discriminator = Discriminator(data_dim)\n",
        "\n",
        "# Optimizers\n",
        "lr = 0.001\n",
        "gen_optimizer = torch.optim.Adam(generator.parameters(), lr=lr)\n",
        "disc_optimizer = torch.optim.Adam(discriminator.parameters(), lr=lr)\n",
        "\n",
        "# Loss function\n",
        "bce_loss = nn.BCELoss()  # Binary cross-entropy loss\n"
      ],
      "metadata": {
        "id": "aXYPWhsg36tg"
      },
      "execution_count": 4,
      "outputs": []
    },
    {
      "cell_type": "markdown",
      "source": [
        "**Training the GAN**\n",
        "$ $\n",
        "\n",
        "**Stage 1- Discriminator Training**\n",
        "\n",
        "1. Real Data\n",
        "    - Randomly sample a batch of real data points from the dataset.\n",
        "    - Pass them through the discriminator to compute predictions $P(\\text{real}|x)$\n",
        "\n",
        "2. Fake Data\n",
        "    - Generate a batch of fake data using the generator.\n",
        "    - Pass it through the discriminator to compute predictions $P(\\text{real}|x_{fake})$\n",
        "\n",
        "3. Use binary cross-entropy loss\n",
        "    - Real data labeled as $1$\n",
        "    - Fake data labeled as $0$\n",
        "\n",
        "4. Update Discriminator\n",
        "    - Backpropagate and optimize the discriminator’s parameters\n",
        "\n",
        "Note: Often, the discriminator is trained more frequently than the generator to stabilize learning (e.g., 2-5 updates for each generator update)\n",
        "\n",
        "**Stage 2- Generator Training**\n",
        "\n",
        "1. Generate Fake Data\n",
        "    - Use random noise as input to the generator to produce fake samples.\n",
        "\n",
        "2. Discriminator Feedback\n",
        "    - Pass the fake data through the discriminator.\n",
        "    - The discriminator predicts the probability that the fake data is real.\n",
        "\n",
        "3. Use binary cross-entropy loss\n",
        "    - The generator tries to fool the discriminator, so the fake data is labeled as $1$.\n",
        "\n",
        "4. Update Discriminator\n",
        "    - Backpropagate and optimize the generator’s parameters\n"
      ],
      "metadata": {
        "id": "Ke2fCZQb4EoY"
      }
    },
    {
      "cell_type": "code",
      "source": [
        "# Training Loop\n",
        "NUM_EPOCHS = 1000\n",
        "BATCH_SIZE = 128\n",
        "NUM_DISC_UPDATES = 2\n",
        "\n",
        "X_tensor = torch.tensor(X, dtype=torch.float32)\n",
        "\n",
        "for epoch in tqdm(range(NUM_EPOCHS), desc=\"Training Progress\"):\n",
        "    # Stage 1 - Discriminator Training\n",
        "    for _ in range(NUM_DISC_UPDATES):\n",
        "        # sample real data\n",
        "        idx = np.random.randint(0, len(X), size=BATCH_SIZE)\n",
        "        real_data = X_tensor[idx]\n",
        "\n",
        "        # generate fake data\n",
        "        z = torch.randn(BATCH_SIZE, noise_dim)\n",
        "        fake_data = generator(z)\n",
        "\n",
        "        # discriminator predictions\n",
        "        real_pred = discriminator(real_data)\n",
        "        fake_pred = discriminator(fake_data.detach())\n",
        "\n",
        "        # discriminator loss\n",
        "        real_loss = bce_loss(real_pred, torch.ones_like(real_pred))  # Real data labeled as 1\n",
        "        fake_loss = bce_loss(fake_pred, torch.zeros_like(fake_pred))  # Fake data labeled as 0\n",
        "        disc_loss = real_loss + fake_loss\n",
        "\n",
        "        # update discriminator\n",
        "        disc_optimizer.zero_grad()\n",
        "        disc_loss.backward()\n",
        "        disc_optimizer.step()\n",
        "\n",
        "    # Stage 2 - Generator Training\n",
        "    z = torch.randn(BATCH_SIZE, noise_dim)\n",
        "    fake_data = generator(z)\n",
        "    fake_pred = discriminator(fake_data)\n",
        "\n",
        "    # generator loss\n",
        "    gen_loss = bce_loss(fake_pred, torch.ones_like(fake_pred))\n",
        "\n",
        "    # update generator\n",
        "    gen_optimizer.zero_grad()\n",
        "    gen_loss.backward()\n",
        "    gen_optimizer.step()\n",
        "\n",
        "    # Optional: Print losses every few epochs\n",
        "    if epoch % 100 == 0:\n",
        "        print(f\"Epoch [{epoch}/{NUM_EPOCHS}], Discriminator Loss: {disc_loss.item()}, Generator Loss: {gen_loss.item()}\")\n",
        "\n"
      ],
      "metadata": {
        "colab": {
          "base_uri": "https://localhost:8080/",
          "height": 228,
          "referenced_widgets": [
            "e0e740738176486581a7f7bb675e8391",
            "f500ebb2fa834b708760a95d138e3d24",
            "cf810e83904e419182ae273a1f0a0517",
            "85f483f6e9f241278e80a4f380ae89a6",
            "8b15d1745cca49c1bcba2b6225cd92e6",
            "777ace28462f44bf98ca7423ca482827",
            "5aeb2dc7abc247ed853856d05fb723a2",
            "a094b85e33a548e39f7fddc4ea3261f8",
            "7f2eed86ead24804b7ad6c771971a036",
            "f770b6b8dca34d94b9bb7fb726660734",
            "e156d518a38b4c759b5200270ae3840d"
          ]
        },
        "id": "Tlji1Fmo67DC",
        "outputId": "a36a1aa2-ca31-4a3b-c8ed-4e192c2de241"
      },
      "execution_count": 5,
      "outputs": [
        {
          "output_type": "display_data",
          "data": {
            "text/plain": [
              "Training Progress:   0%|          | 0/1000 [00:00<?, ?it/s]"
            ],
            "application/vnd.jupyter.widget-view+json": {
              "version_major": 2,
              "version_minor": 0,
              "model_id": "e0e740738176486581a7f7bb675e8391"
            }
          },
          "metadata": {}
        },
        {
          "output_type": "stream",
          "name": "stdout",
          "text": [
            "Epoch [0/1000], Discriminator Loss: 1.217956304550171, Generator Loss: 0.6355668306350708\n",
            "Epoch [100/1000], Discriminator Loss: 1.320000410079956, Generator Loss: 0.9524393081665039\n",
            "Epoch [200/1000], Discriminator Loss: 0.7489227056503296, Generator Loss: 1.315542459487915\n",
            "Epoch [300/1000], Discriminator Loss: 1.279224157333374, Generator Loss: 0.9481824636459351\n",
            "Epoch [400/1000], Discriminator Loss: 1.282327651977539, Generator Loss: 1.0461385250091553\n",
            "Epoch [500/1000], Discriminator Loss: 1.1373622417449951, Generator Loss: 1.029219388961792\n",
            "Epoch [600/1000], Discriminator Loss: 1.2016154527664185, Generator Loss: 0.9304591417312622\n",
            "Epoch [700/1000], Discriminator Loss: 1.3586088418960571, Generator Loss: 0.9231169819831848\n",
            "Epoch [800/1000], Discriminator Loss: 1.1380025148391724, Generator Loss: 0.9480172991752625\n",
            "Epoch [900/1000], Discriminator Loss: 1.1801352500915527, Generator Loss: 0.8780630826950073\n"
          ]
        }
      ]
    },
    {
      "cell_type": "markdown",
      "source": [
        "## 4. Visualization"
      ],
      "metadata": {
        "id": "HpV5nYdzeUtq"
      }
    },
    {
      "cell_type": "code",
      "source": [
        "n_samples = 1000\n",
        "noise = torch.randn(n_samples, noise_dim)\n",
        "gen_X = generator(noise).detach().numpy()\n",
        "\n",
        "plt.scatter(gen_X[:, 0], gen_X[:, 1], s=5, alpha=0.7, label=\"Generated\")\n",
        "#plt.scatter(X[:, 0], X[:, 1], s=5, alpha=0.7, label=\"True Data\")\n",
        "plt.title(\"GAN Generated Samples vs True Data\")\n",
        "plt.xlabel(\"x\")\n",
        "plt.ylabel(\"y\")\n",
        "plt.legend()\n",
        "plt.show()"
      ],
      "metadata": {
        "colab": {
          "base_uri": "https://localhost:8080/",
          "height": 472
        },
        "id": "z2IXX5gzeax4",
        "outputId": "d99ad865-30a8-494d-a521-736d81303fbd"
      },
      "execution_count": 6,
      "outputs": [
        {
          "output_type": "display_data",
          "data": {
            "text/plain": [
              "<Figure size 640x480 with 1 Axes>"
            ],
            "image/png": "[encoded data removed]"
          },
          "metadata": {}
        }
      ]
    }
  ]
}