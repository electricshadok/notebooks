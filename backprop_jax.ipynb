{
  "nbformat": 4,
  "nbformat_minor": 0,
  "metadata": {
    "colab": {
      "provenance": [],
      "authorship_tag": "ABX9TyNDBPBeJvgaPOiOz2XTG57w",
      "include_colab_link": true
    },
    "kernelspec": {
      "name": "python3",
      "display_name": "Python 3"
    },
    "language_info": {
      "name": "python"
    }
  },
  "cells": [
    {
      "cell_type": "markdown",
      "metadata": {
        "id": "view-in-github",
        "colab_type": "text"
      },
      "source": [
        "<a href=\"https://colab.research.google.com/github/electricshadok/notebooks/blob/main/backprop_jax.ipynb\" target=\"_parent\"><img src=\"https://colab.research.google.com/assets/colab-badge.svg\" alt=\"Open In Colab\"/></a>"
      ]
    },
    {
      "cell_type": "markdown",
      "source": [
        "# Understand Backpropagation (JAX implementation)"
      ],
      "metadata": {
        "id": "-GMMRQaOIkMx"
      }
    },
    {
      "cell_type": "markdown",
      "source": [
        "This section focuses on implementing **backpropagation from scratch** using JAX.\n",
        "We will construct a **two-layer neural network** to demonstrate the forward pass,\n",
        "backward pass (gradient calculation), and parameter updates using gradient descent."
      ],
      "metadata": {
        "id": "IN8TzCzBIo6H"
      }
    },
    {
      "cell_type": "markdown",
      "source": [
        "## Packages"
      ],
      "metadata": {
        "id": "tIQcbHbwOyni"
      }
    },
    {
      "cell_type": "code",
      "execution_count": 1,
      "metadata": {
        "id": "yiUkzep5Idl_"
      },
      "outputs": [],
      "source": [
        "import jax\n",
        "import jax.numpy as jnp\n",
        "import numpy as np\n",
        "import matplotlib.pyplot as plt"
      ]
    },
    {
      "cell_type": "markdown",
      "source": [
        "## Utilities"
      ],
      "metadata": {
        "id": "7AlaJ0REqDDQ"
      }
    },
    {
      "cell_type": "markdown",
      "source": [
        "The **sigmoid activation function** is used to map input values to the range $(0, 1)$, making it useful for probability-based outputs or as an activation function.\n",
        "\n",
        "$$\\sigma(x) = \\frac{1}{1 + e^{-x}}$$\n",
        "\n",
        "Where:\n",
        "- $x$ is the input value (scalar or tensor).\n",
        "- $\\sigma(x)$ is the sigmoid output.\n",
        "\n",
        "\n",
        "The **Mean Squared Error (MSE)** measures the average squared difference between predicted and actual values. It is commonly used in regression problems.\n",
        "\n",
        "$$\\text{MSE}(y_{\\text{true}}, y_{\\text{pred}}) = \\frac{1}{n} \\sum_{i=1}^{n} \\left( y_{\\text{true},i} - y_{\\text{pred},i} \\right)^2$$\n",
        "\n",
        "Where:\n",
        "- $y_{\\text{true}}$: Ground truth target values.\n",
        "- $y_{\\text{pred}}$: Predicted values.\n",
        "- $n$: Number of samples."
      ],
      "metadata": {
        "id": "4j_xTBiA0uK-"
      }
    },
    {
      "cell_type": "code",
      "source": [
        "# Sigmoid Activation\n",
        "def sigmoid(x):\n",
        "    return 1 / (1 + jnp.exp(-x))\n",
        "\n",
        "# Loss Function (Mean Squared Error)\n",
        "def mse_loss(y_true, y_pred):\n",
        "    return jnp.mean((y_true - y_pred) ** 2)"
      ],
      "metadata": {
        "id": "HgHYtoJEqFow"
      },
      "execution_count": 2,
      "outputs": []
    },
    {
      "cell_type": "markdown",
      "source": [
        "## Linear layer (Forward and Backward pass)\n"
      ],
      "metadata": {
        "id": "57ZXVONMo_Qt"
      }
    },
    {
      "cell_type": "markdown",
      "source": [
        "\n",
        "The Linear layer is a fundamental building block in neural networks. It performs a linear transformation on the input, parameterized by weights ($W$) and biases ($b$).\n",
        "\n",
        "**Forward pass**\n",
        "\n",
        "The forward pass of the **Linear** layer computes:\n",
        "\n",
        "$$z=XW+b$$\n",
        "\n",
        "Where:\n",
        "\n",
        "- $X$ is the input matrix $(m, \\text{in_features})$, where $m$ is the batch size.\n",
        "- $W$ is the weight matrix of shape $(\\text{in_features}, \\text{out_features})$\n",
        "- $b$ is the bias vector of shape $(\\text{out_features})$\n",
        "- $z$ is the output (pre-activation) matrix of shape $(m, \\text{out_features})$\n",
        "\n",
        "\n",
        "**Backward pass : Gradient for $W$**\n",
        "\n",
        "The backward pass computes the gradients of the loss $L$ with respect to the weights $W$.\n",
        "\n",
        "$$\\frac{\\partial L }{\\partial W} = X^\\top \\delta$$\n",
        "\n",
        "Where:\n",
        "\n",
        "- $X^\\top$  is the transpose of the input matrix X\n",
        "- $\\delta = \\frac{\\partial L}{\\partial z}$ is the gradient of the loss with respect to the output $z$, with shape $(m, \\text{out_features})$\n",
        "- $\\frac{\\partial L}{\\partial W} $ has shape $(\\text{in_features}, \\text{out_features})$.\n",
        "\n",
        "**Backward pass : Gradient for $b$**\n",
        "\n",
        "The gradient of the loss $L$ with respect to the biases $b$ is:\n",
        "\n",
        "$$\\frac{\\partial L}{\\partial b} = \\sum_{i=1}^m \\delta_i$$\n",
        "\n",
        "\n",
        "Where:\n",
        "\n",
        "- $\\delta_i$ is the $i$-th row of $\\delta$.\n",
        "- Summing over all rows gives $\\frac{\\partial L}{\\partial b} $ has shape $(\\text{out_features})$.\n",
        "\n",
        "\n",
        "**Optimizer pass**\n",
        "\n",
        "Update the parameters ($W$ and $b$) using **gradient descent**:\n",
        "\n",
        "$$W \\leftarrow W - \\alpha \\frac{\\partial L}{\\partial W}$$\n",
        "\n",
        "$$b \\leftarrow b - \\alpha \\frac{\\partial L}{\\partial b}$$\n",
        "\n",
        "Where:\n",
        "\n",
        "- $\\alpha$ is the learning rate.\n",
        "- $\\frac{\\partial L}{\\partial W}$ and $\\frac{\\partial L}{\\partial b}$ are computed in the backward pass.\n",
        "\n"
      ],
      "metadata": {
        "id": "PFrW8cKPM9VE"
      }
    },
    {
      "cell_type": "code",
      "source": [
        "class Linear:\n",
        "    def __init__(self, in_features, out_features, key):\n",
        "        \"\"\"\n",
        "        Initialize the linear layer with weights, biases, and placeholder gradients.\n",
        "\n",
        "            Args:\n",
        "                in_features (int): Number of input features.\n",
        "                out_features (int): Number of output features.\n",
        "                key (jax.random.PRNGKey): Random key for initializing weights.\n",
        "        \"\"\"\n",
        "        self.W = jax.random.normal(key, (in_features, out_features)) * 0.01\n",
        "        self.b = jnp.zeros((out_features,))\n",
        "\n",
        "        # Initialize gradients with the same shape as weights and biases\n",
        "        self.gradW = jnp.zeros_like(self.W)  # Gradient for weights\n",
        "        self.gradb = jnp.zeros_like(self.b)  # Gradient for biases\n",
        "\n",
        "    def forward(self, x):\n",
        "        \"\"\"\n",
        "        Perform the forward pass: compute z = XW + b.\n",
        "        \"\"\"\n",
        "        self.input = x  # Cache input for gradient computation\n",
        "        return jnp.dot(x, self.W) + self.b\n",
        "\n",
        "    def backward(self, grad_output):\n",
        "        \"\"\"\n",
        "        Compute gradients for this layer.\n",
        "        Args:\n",
        "            grad_output: Gradient of the loss w.r.t. the output of this layer.\n",
        "        return: Gradient of the loss w.r.t. the input to this layer.\n",
        "        \"\"\"\n",
        "        # Gradient w.r.t. weights and biases\n",
        "        self.gradW = jnp.dot(self.input.T, grad_output)\n",
        "        self.gradb = jnp.sum(grad_output, axis=0)\n",
        "\n",
        "        # Gradient w.r.t. inputs to this layer\n",
        "        grad_input = jnp.dot(grad_output, self.W.T)\n",
        "        return grad_input\n",
        "\n",
        "    def update(self, learning_rate):\n",
        "        \"\"\"\n",
        "        Update weights and biases using stored gradients.\n",
        "        \"\"\"\n",
        "        self.W -= learning_rate * self.gradW\n",
        "        self.b -= learning_rate * self.gradb"
      ],
      "metadata": {
        "id": "0HHVXNpWqPA1"
      },
      "execution_count": 3,
      "outputs": []
    },
    {
      "cell_type": "markdown",
      "source": [
        "## Network (Two fully connected layers)"
      ],
      "metadata": {
        "id": "GkXG-TuYeyVS"
      }
    },
    {
      "cell_type": "markdown",
      "source": [
        "Build a simple neural network by chaining two Linear layers."
      ],
      "metadata": {
        "id": "FBzuGOTwb78e"
      }
    },
    {
      "cell_type": "code",
      "source": [
        "class Network:\n",
        "    def __init__(self, input_dim: int, hidden_dim: int, output_dim: int):\n",
        "        \"\"\"\n",
        "        A simple neural network consisting of two fully connected (linear) layers.\n",
        "\n",
        "        Args:\n",
        "            input_dim (int): Number of input features for the network.\n",
        "            hidden_dim (int): Number of neurons in the hidden layer.\n",
        "            output_dim (int): Number of output features for the network.\n",
        "        \"\"\"\n",
        "        key = jax.random.key(seed=10)\n",
        "        key1, key2 = jax.random.split(key)\n",
        "        layer1 = Linear(input_dim, hidden_dim, key1)\n",
        "        layer2 = Linear(hidden_dim, output_dim, key2)\n",
        "        self.layers = [layer1, layer2]\n",
        "\n",
        "    def forward(self, x):\n",
        "        \"\"\"\n",
        "        Perform the forward pass through the network.\n",
        "        \"\"\"\n",
        "        for layer in self.layers:\n",
        "            x = layer.forward(x)\n",
        "        return x\n",
        "\n",
        "    def backward(self, x, y):\n",
        "        \"\"\"\n",
        "        Perform the backward pass to compute gradients for all layers.\n",
        "        \"\"\"\n",
        "        y_pred = self.forward(x)\n",
        "        grad_output = (y_pred - y) / y.shape[0]  # Gradient of MSE Loss\n",
        "        for layer in reversed(self.layers):\n",
        "            grad_output = layer.backward(grad_output)\n",
        "\n",
        "    def update(self, learning_rate):\n",
        "        \"\"\"\n",
        "        Update weights and biases of all layers using gradient descent.\n",
        "        \"\"\"\n",
        "        for layer in self.layers:\n",
        "            layer.update(learning_rate)\n",
        "\n",
        "    def compute_loss(self, x, y):\n",
        "        \"\"\"\n",
        "        Compute the Mean Squared Error (MSE) loss.\n",
        "        \"\"\"\n",
        "        y_pred = self.forward(x)\n",
        "        return jnp.mean((y - y_pred) ** 2)  # Mean Squared Error Loss"
      ],
      "metadata": {
        "id": "AG-DJThpe06b"
      },
      "execution_count": 4,
      "outputs": []
    },
    {
      "cell_type": "markdown",
      "source": [
        "## Simple Regression Task"
      ],
      "metadata": {
        "id": "9t73jNflR0uO"
      }
    },
    {
      "cell_type": "markdown",
      "source": [
        "In this regression task, we generate data based on a simple linear equation:\n",
        "\n",
        "$$2x_1 + 3x_2 - 1 $$"
      ],
      "metadata": {
        "id": "_3JjDz1K5XJ5"
      }
    },
    {
      "cell_type": "code",
      "source": [
        "# Define the simple function: y = 2x1 + 3x2 - 1\n",
        "def generate_data(num_samples=100):\n",
        "    x = jax.random.uniform(jax.random.PRNGKey(0), (num_samples, 2)) * 10  # Random x1, x2 values\n",
        "    x_1, x_2 = x[:, 0:1], x[:, 1:2]\n",
        "    y = 2 * x[:, 0:1] + 3 *  - 1\n",
        "    return x, y\n",
        "\n",
        "# Create datasets\n",
        "TRAIN_X, TRAIN_Y = generate_data(100)\n",
        "TEST_X, TEST_Y = generate_data(10)\n",
        "\n",
        "# Visualize the data in 2D with x1 and x2 as axes and y as color\n",
        "plt.figure(figsize=(8, 6))\n",
        "plt.scatter(TRAIN_X[:, 0], TRAIN_X[:, 1], c=TRAIN_Y, cmap='viridis', s=50, alpha=0.8)\n",
        "plt.colorbar(label=\"y\")\n",
        "plt.xlabel(\"x1\")\n",
        "plt.ylabel(\"x2\")\n",
        "plt.title(\"Visualization of Generated Data: x1, x2 as Axes, y as Color\")\n",
        "plt.grid(True)\n",
        "plt.show()"
      ],
      "metadata": {
        "colab": {
          "base_uri": "https://localhost:8080/",
          "height": 564
        },
        "id": "8aXNLI2aWYeP",
        "outputId": "40697541-8d14-4a2b-f8ed-74fda17e7990"
      },
      "execution_count": 5,
      "outputs": [
        {
          "output_type": "display_data",
          "data": {
            "text/plain": [
              "<Figure size 800x600 with 2 Axes>"
            ],
            "image/png": "[encoded data removed]"
          },
          "metadata": {}
        }
      ]
    },
    {
      "cell_type": "markdown",
      "source": [
        "Train the network !!"
      ],
      "metadata": {
        "id": "WxufMzJ9YaN-"
      }
    },
    {
      "cell_type": "code",
      "source": [
        "LEARNING_RATE = 0.001\n",
        "EPOCHS = 500\n",
        "\n",
        "network = Network(input_dim = 2,hidden_dim = 4, output_dim = 1)\n",
        "\n",
        "for epoch in range(EPOCHS):\n",
        "    network.backward(TRAIN_X, TRAIN_Y)  # Backward pass\n",
        "    network.update(LEARNING_RATE)  # Update weights\n",
        "\n",
        "    if epoch % 100 == 0:\n",
        "        loss = network.compute_loss(TRAIN_X, TRAIN_Y)\n",
        "        print(f\"Epoch {epoch}, Loss: {loss:.4f}\")"
      ],
      "metadata": {
        "colab": {
          "base_uri": "https://localhost:8080/"
        },
        "id": "oKuPtdEuYZZO",
        "outputId": "5d799854-c135-439f-8339-9fc6cf4a773a"
      },
      "execution_count": 6,
      "outputs": [
        {
          "output_type": "stream",
          "name": "stdout",
          "text": [
            "Epoch 0, Loss: 88.0111\n",
            "Epoch 100, Loss: 13.4293\n",
            "Epoch 200, Loss: 2.1148\n",
            "Epoch 300, Loss: 1.5589\n",
            "Epoch 400, Loss: 1.4449\n"
          ]
        }
      ]
    },
    {
      "cell_type": "markdown",
      "source": [
        "Make predictions using the trained network."
      ],
      "metadata": {
        "id": "Io-FeiBuwNbS"
      }
    },
    {
      "cell_type": "code",
      "source": [
        "# Test the Network\n",
        "y_pred = network.forward(TEST_X)\n",
        "errors = TEST_Y.flatten() - y_pred.flatten()\n",
        "\n",
        "print(\"\\nTest Predictions vs Actual Values:\")\n",
        "for i in range(10):\n",
        "    print(f\"Input: {TEST_X[i]}, Predicted: {y_pred[i][0]:.2f}, Actual: {TEST_Y[i][0]:.2f}\")"
      ],
      "metadata": {
        "colab": {
          "base_uri": "https://localhost:8080/"
        },
        "id": "iAXJxKMJwQbk",
        "outputId": "21915aef-82e9-4a6a-9c18-6ee69995ac49"
      },
      "execution_count": 7,
      "outputs": [
        {
          "output_type": "stream",
          "name": "stdout",
          "text": [
            "\n",
            "Test Predictions vs Actual Values:\n",
            "Input: [8.541766  1.6620052], Predicted: 14.64, Actual: 14.08\n",
            "Input: [2.7605474 4.8728156], Predicted: 3.69, Actual: 2.52\n",
            "Input: [9.920441  0.3015983], Predicted: 17.40, Actual: 16.84\n",
            "Input: [2.162943  3.7687123], Predicted: 2.94, Actual: 1.33\n",
            "Input: [6.3070035 9.614448 ], Predicted: 8.64, Actual: 9.61\n",
            "Input: [1.5203023 9.20903  ], Predicted: 0.39, Actual: 0.04\n",
            "Input: [3.0555236 2.9931295], Predicted: 4.70, Actual: 3.11\n",
            "Input: [6.925707 8.542826], Predicted: 10.01, Actual: 10.85\n",
            "Input: [4.651738  7.8693066], Predicted: 6.21, Actual: 6.30\n",
            "Input: [9.960528  2.8018546], Predicted: 16.82, Actual: 16.92\n"
          ]
        }
      ]
    }
  ]
}